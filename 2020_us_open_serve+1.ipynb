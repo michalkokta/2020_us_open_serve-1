{
 "cells": [
  {
   "cell_type": "code",
   "execution_count": 23,
   "metadata": {},
   "outputs": [],
   "source": [
    "import pandas as pd\n",
    "\n",
    "data = pd.read_csv('https://raw.githubusercontent.com/JeffSackmann/tennis_slam_pointbypoint/master/2020-usopen-points.csv')"
   ]
  },
  {
   "cell_type": "code",
   "execution_count": 24,
   "metadata": {},
   "outputs": [
    {
     "name": "stdout",
     "output_type": "stream",
     "text": [
      "Index(['match_id', 'ElapsedTime', 'SetNo', 'P1GamesWon', 'P2GamesWon',\n",
      "       'SetWinner', 'GameNo', 'GameWinner', 'PointNumber', 'PointWinner',\n",
      "       'PointServer', 'Speed_KMH', 'Rally', 'P1Score', 'P2Score', 'P1Momentum',\n",
      "       'P2Momentum', 'P1PointsWon', 'P2PointsWon', 'P1Ace', 'P2Ace',\n",
      "       'P1Winner', 'P2Winner', 'P1DoubleFault', 'P2DoubleFault', 'P1UnfErr',\n",
      "       'P2UnfErr', 'P1NetPoint', 'P2NetPoint', 'P1NetPointWon',\n",
      "       'P2NetPointWon', 'P1BreakPoint', 'P2BreakPoint', 'P1BreakPointWon',\n",
      "       'P2BreakPointWon', 'P1FirstSrvIn', 'P2FirstSrvIn', 'P1FirstSrvWon',\n",
      "       'P2FirstSrvWon', 'P1SecondSrvIn', 'P2SecondSrvIn', 'P1SecondSrvWon',\n",
      "       'P2SecondSrvWon', 'P1ForcedError', 'P2ForcedError', 'History',\n",
      "       'Speed_MPH', 'P1BreakPointMissed', 'P2BreakPointMissed',\n",
      "       'ServeIndicator', 'Serve_Direction', 'Winner_FH', 'Winner_BH',\n",
      "       'ServingTo', 'P1TurningPoint', 'P2TurningPoint', 'ServeNumber',\n",
      "       'WinnerType', 'WinnerShotType', 'P1DistanceRun', 'P2DistanceRun',\n",
      "       'RallyCount', 'ServeWidth', 'ServeDepth', 'ReturnDepth'],\n",
      "      dtype='object')\n"
     ]
    }
   ],
   "source": [
    "print(data.columns)"
   ]
  },
  {
   "cell_type": "code",
   "execution_count": 25,
   "metadata": {},
   "outputs": [],
   "source": [
    "men = data.head(27395)\n",
    "women = data.tail(17762)"
   ]
  },
  {
   "cell_type": "code",
   "execution_count": 26,
   "metadata": {},
   "outputs": [
    {
     "name": "stdout",
     "output_type": "stream",
     "text": [
      "688\n",
      "1700\n",
      "1214\n",
      "1824\n",
      "1115\n"
     ]
    }
   ],
   "source": [
    "#second serve points\n",
    "second_serves = men[men.ServeNumber == 2]\n",
    "\n",
    "print(len(second_serves[second_serves.ServeWidth == 'W']))\n",
    "print(len(second_serves[second_serves.ServeWidth == 'BW']))\n",
    "print(len(second_serves[second_serves.ServeWidth == 'B']))\n",
    "print(len(second_serves[second_serves.ServeWidth == 'BC']))\n",
    "print(len(second_serves[second_serves.ServeWidth == 'C']))"
   ]
  },
  {
   "cell_type": "code",
   "execution_count": 27,
   "metadata": {},
   "outputs": [
    {
     "name": "stdout",
     "output_type": "stream",
     "text": [
      "173\n",
      "408\n",
      "315\n",
      "445\n",
      "236\n"
     ]
    }
   ],
   "source": [
    "#second serve points of length 3\n",
    "second_serve_3 = second_serves[second_serves.RallyCount == 3]\n",
    "\n",
    "print(len(second_serve_3[second_serve_3.ServeWidth == 'W']))\n",
    "print(len(second_serve_3[second_serve_3.ServeWidth == 'BW']))\n",
    "print(len(second_serve_3[second_serve_3.ServeWidth == 'B']))\n",
    "print(len(second_serve_3[second_serve_3.ServeWidth == 'BC']))\n",
    "print(len(second_serve_3[second_serve_3.ServeWidth == 'C']))"
   ]
  },
  {
   "cell_type": "code",
   "execution_count": 28,
   "metadata": {},
   "outputs": [
    {
     "name": "stdout",
     "output_type": "stream",
     "text": [
      "65\n",
      "100\n",
      "61\n",
      "94\n",
      "53\n"
     ]
    }
   ],
   "source": [
    "#second serves of length 3 and forehand winner\n",
    "second_serve_3_fh = second_serve_3[second_serve_3.WinnerShotType == 'F']\n",
    "\n",
    "print(len(second_serve_3_fh[second_serve_3_fh.ServeWidth == 'W']))\n",
    "print(len(second_serve_3_fh[second_serve_3_fh.ServeWidth == 'BW']))\n",
    "print(len(second_serve_3_fh[second_serve_3_fh.ServeWidth == 'B']))\n",
    "print(len(second_serve_3_fh[second_serve_3_fh.ServeWidth == 'BC']))\n",
    "print(len(second_serve_3_fh[second_serve_3_fh.ServeWidth == 'C']))"
   ]
  }
 ],
 "metadata": {
  "kernelspec": {
   "display_name": "Python 3",
   "language": "python",
   "name": "python3"
  },
  "language_info": {
   "codemirror_mode": {
    "name": "ipython",
    "version": 3
   },
   "file_extension": ".py",
   "mimetype": "text/x-python",
   "name": "python",
   "nbconvert_exporter": "python",
   "pygments_lexer": "ipython3",
   "version": "3.7.7"
  }
 },
 "nbformat": 4,
 "nbformat_minor": 4
}
